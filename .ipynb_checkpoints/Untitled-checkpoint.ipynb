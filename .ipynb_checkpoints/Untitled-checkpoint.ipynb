{
 "cells": [
  {
   "cell_type": "code",
   "execution_count": 2,
   "id": "d85b48a8-ca14-4343-9a55-7ec32bb8c06a",
   "metadata": {},
   "outputs": [
    {
     "name": "stdout",
     "output_type": "stream",
     "text": [
      "Requirement already satisfied: ipaddress in c:\\users\\fkzw0\\appdata\\roaming\\jupyterlab-desktop\\jlab_server\\lib\\site-packages (1.0.23)\n"
     ]
    }
   ],
   "source": [
    "!pip3 install ipaddress"
   ]
  },
  {
   "cell_type": "code",
   "execution_count": null,
   "id": "d5fba19c-c2ff-4ef0-a1f8-bc3986136e61",
   "metadata": {},
   "outputs": [],
   "source": [
    "from ipaddress import ip_interface"
   ]
  },
  {
   "cell_type": "code",
   "execution_count": null,
   "id": "0f03b020-3e3b-49c6-ae3c-e08f55cf3533",
   "metadata": {},
   "outputs": [],
   "source": [
    "ip = ip_interface('192.168.0.0/24')"
   ]
  },
  {
   "cell_type": "code",
   "execution_count": null,
   "id": "62f2c90c-9dd2-464d-8fd4-ff455f926b69",
   "metadata": {},
   "outputs": [],
   "source": [
    "ip.network.network_address"
   ]
  },
  {
   "cell_type": "code",
   "execution_count": null,
   "id": "fabd3d84-f481-4df8-ae55-7030222f31a7",
   "metadata": {
    "tags": []
   },
   "outputs": [],
   "source": [
    "list(ip.network.hosts())[0]"
   ]
  },
  {
   "cell_type": "code",
   "execution_count": null,
   "id": "465684c8-2ca4-4347-b1c5-8840cab77717",
   "metadata": {
    "tags": []
   },
   "outputs": [],
   "source": [
    "list(ip.network.hosts())[-1]"
   ]
  },
  {
   "cell_type": "code",
   "execution_count": null,
   "id": "8726019c-1631-495d-8726-9360465e7c06",
   "metadata": {},
   "outputs": [],
   "source": []
  },
  {
   "cell_type": "code",
   "execution_count": null,
   "id": "cd8dd896-1850-43d3-8fe4-5245a74bf768",
   "metadata": {},
   "outputs": [],
   "source": []
  },
  {
   "cell_type": "code",
   "execution_count": null,
   "id": "65d09931-b9c2-4918-8723-a90399ec17b8",
   "metadata": {},
   "outputs": [],
   "source": []
  }
 ],
 "metadata": {
  "kernelspec": {
   "display_name": "Python 3 (ipykernel)",
   "language": "python",
   "name": "python3"
  },
  "language_info": {
   "codemirror_mode": {
    "name": "ipython",
    "version": 3
   },
   "file_extension": ".py",
   "mimetype": "text/x-python",
   "name": "python",
   "nbconvert_exporter": "python",
   "pygments_lexer": "ipython3",
   "version": "3.8.13"
  }
 },
 "nbformat": 4,
 "nbformat_minor": 5
}
